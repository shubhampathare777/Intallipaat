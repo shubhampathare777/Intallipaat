{
 "cells": [
  {
   "cell_type": "markdown",
   "id": "48e43ea6",
   "metadata": {},
   "source": [
    "# Linear Regression"
   ]
  },
  {
   "cell_type": "code",
   "execution_count": 1,
   "id": "7212789b",
   "metadata": {},
   "outputs": [],
   "source": [
    "import numpy as np\n",
    "import pandas as pd\n",
    "import matplotlib.pyplot as plt\n",
    "import seaborn as sns"
   ]
  },
  {
   "cell_type": "code",
   "execution_count": 2,
   "id": "56bd57d2",
   "metadata": {},
   "outputs": [],
   "source": [
    "df=pd.read_csv(r\"C:\\Users\\ashwa\\Downloads\\new_insurance_data (2).csv\")\n"
   ]
  },
  {
   "cell_type": "code",
   "execution_count": 3,
   "id": "cbadfdd3",
   "metadata": {},
   "outputs": [
    {
     "data": {
      "text/html": [
       "<div>\n",
       "<style scoped>\n",
       "    .dataframe tbody tr th:only-of-type {\n",
       "        vertical-align: middle;\n",
       "    }\n",
       "\n",
       "    .dataframe tbody tr th {\n",
       "        vertical-align: top;\n",
       "    }\n",
       "\n",
       "    .dataframe thead th {\n",
       "        text-align: right;\n",
       "    }\n",
       "</style>\n",
       "<table border=\"1\" class=\"dataframe\">\n",
       "  <thead>\n",
       "    <tr style=\"text-align: right;\">\n",
       "      <th></th>\n",
       "      <th>age</th>\n",
       "      <th>sex</th>\n",
       "      <th>bmi</th>\n",
       "      <th>children</th>\n",
       "      <th>smoker</th>\n",
       "      <th>Claim_Amount</th>\n",
       "      <th>past_consultations</th>\n",
       "      <th>num_of_steps</th>\n",
       "      <th>Hospital_expenditure</th>\n",
       "      <th>NUmber_of_past_hospitalizations</th>\n",
       "      <th>Anual_Salary</th>\n",
       "      <th>region</th>\n",
       "      <th>charges</th>\n",
       "    </tr>\n",
       "  </thead>\n",
       "  <tbody>\n",
       "    <tr>\n",
       "      <th>0</th>\n",
       "      <td>18.0</td>\n",
       "      <td>male</td>\n",
       "      <td>23.21</td>\n",
       "      <td>0.0</td>\n",
       "      <td>no</td>\n",
       "      <td>29087.54313</td>\n",
       "      <td>17.0</td>\n",
       "      <td>715428.0</td>\n",
       "      <td>4720920.992</td>\n",
       "      <td>0.0</td>\n",
       "      <td>55784970.05</td>\n",
       "      <td>southeast</td>\n",
       "      <td>1121.8739</td>\n",
       "    </tr>\n",
       "    <tr>\n",
       "      <th>1</th>\n",
       "      <td>18.0</td>\n",
       "      <td>male</td>\n",
       "      <td>30.14</td>\n",
       "      <td>0.0</td>\n",
       "      <td>no</td>\n",
       "      <td>39053.67437</td>\n",
       "      <td>7.0</td>\n",
       "      <td>699157.0</td>\n",
       "      <td>4329831.676</td>\n",
       "      <td>0.0</td>\n",
       "      <td>13700885.19</td>\n",
       "      <td>southeast</td>\n",
       "      <td>1131.5066</td>\n",
       "    </tr>\n",
       "    <tr>\n",
       "      <th>2</th>\n",
       "      <td>18.0</td>\n",
       "      <td>male</td>\n",
       "      <td>33.33</td>\n",
       "      <td>0.0</td>\n",
       "      <td>no</td>\n",
       "      <td>39023.62759</td>\n",
       "      <td>19.0</td>\n",
       "      <td>702341.0</td>\n",
       "      <td>6884860.774</td>\n",
       "      <td>0.0</td>\n",
       "      <td>73523107.27</td>\n",
       "      <td>southeast</td>\n",
       "      <td>1135.9407</td>\n",
       "    </tr>\n",
       "    <tr>\n",
       "      <th>3</th>\n",
       "      <td>18.0</td>\n",
       "      <td>male</td>\n",
       "      <td>33.66</td>\n",
       "      <td>0.0</td>\n",
       "      <td>no</td>\n",
       "      <td>28185.39332</td>\n",
       "      <td>11.0</td>\n",
       "      <td>700250.0</td>\n",
       "      <td>4274773.550</td>\n",
       "      <td>0.0</td>\n",
       "      <td>75819679.60</td>\n",
       "      <td>southeast</td>\n",
       "      <td>1136.3994</td>\n",
       "    </tr>\n",
       "    <tr>\n",
       "      <th>4</th>\n",
       "      <td>18.0</td>\n",
       "      <td>male</td>\n",
       "      <td>34.10</td>\n",
       "      <td>0.0</td>\n",
       "      <td>no</td>\n",
       "      <td>14697.85941</td>\n",
       "      <td>16.0</td>\n",
       "      <td>711584.0</td>\n",
       "      <td>3787293.921</td>\n",
       "      <td>0.0</td>\n",
       "      <td>23012320.01</td>\n",
       "      <td>southeast</td>\n",
       "      <td>1137.0110</td>\n",
       "    </tr>\n",
       "  </tbody>\n",
       "</table>\n",
       "</div>"
      ],
      "text/plain": [
       "    age   sex    bmi  children smoker  Claim_Amount  past_consultations  \\\n",
       "0  18.0  male  23.21       0.0     no   29087.54313                17.0   \n",
       "1  18.0  male  30.14       0.0     no   39053.67437                 7.0   \n",
       "2  18.0  male  33.33       0.0     no   39023.62759                19.0   \n",
       "3  18.0  male  33.66       0.0     no   28185.39332                11.0   \n",
       "4  18.0  male  34.10       0.0     no   14697.85941                16.0   \n",
       "\n",
       "   num_of_steps  Hospital_expenditure  NUmber_of_past_hospitalizations  \\\n",
       "0      715428.0           4720920.992                              0.0   \n",
       "1      699157.0           4329831.676                              0.0   \n",
       "2      702341.0           6884860.774                              0.0   \n",
       "3      700250.0           4274773.550                              0.0   \n",
       "4      711584.0           3787293.921                              0.0   \n",
       "\n",
       "   Anual_Salary     region    charges  \n",
       "0   55784970.05  southeast  1121.8739  \n",
       "1   13700885.19  southeast  1131.5066  \n",
       "2   73523107.27  southeast  1135.9407  \n",
       "3   75819679.60  southeast  1136.3994  \n",
       "4   23012320.01  southeast  1137.0110  "
      ]
     },
     "execution_count": 3,
     "metadata": {},
     "output_type": "execute_result"
    }
   ],
   "source": [
    "df.head()"
   ]
  },
  {
   "cell_type": "code",
   "execution_count": 4,
   "id": "5ae33dc5",
   "metadata": {},
   "outputs": [
    {
     "data": {
      "text/plain": [
       "(1338, 13)"
      ]
     },
     "execution_count": 4,
     "metadata": {},
     "output_type": "execute_result"
    }
   ],
   "source": [
    "df.shape"
   ]
  },
  {
   "cell_type": "code",
   "execution_count": 5,
   "id": "bce385f6",
   "metadata": {},
   "outputs": [
    {
     "name": "stdout",
     "output_type": "stream",
     "text": [
      "<class 'pandas.core.frame.DataFrame'>\n",
      "RangeIndex: 1338 entries, 0 to 1337\n",
      "Data columns (total 13 columns):\n",
      " #   Column                           Non-Null Count  Dtype  \n",
      "---  ------                           --------------  -----  \n",
      " 0   age                              1329 non-null   float64\n",
      " 1   sex                              1338 non-null   object \n",
      " 2   bmi                              1335 non-null   float64\n",
      " 3   children                         1333 non-null   float64\n",
      " 4   smoker                           1338 non-null   object \n",
      " 5   Claim_Amount                     1324 non-null   float64\n",
      " 6   past_consultations               1332 non-null   float64\n",
      " 7   num_of_steps                     1335 non-null   float64\n",
      " 8   Hospital_expenditure             1334 non-null   float64\n",
      " 9   NUmber_of_past_hospitalizations  1336 non-null   float64\n",
      " 10  Anual_Salary                     1332 non-null   float64\n",
      " 11  region                           1338 non-null   object \n",
      " 12  charges                          1338 non-null   float64\n",
      "dtypes: float64(10), object(3)\n",
      "memory usage: 136.0+ KB\n"
     ]
    }
   ],
   "source": [
    "df.info()"
   ]
  },
  {
   "cell_type": "code",
   "execution_count": 9,
   "id": "b23b95ab",
   "metadata": {},
   "outputs": [
    {
     "data": {
      "text/plain": [
       "age                                 9\n",
       "sex                                 0\n",
       "bmi                                 3\n",
       "children                            5\n",
       "smoker                              0\n",
       "Claim_Amount                       14\n",
       "past_consultations                  6\n",
       "num_of_steps                        3\n",
       "Hospital_expenditure                4\n",
       "NUmber_of_past_hospitalizations     2\n",
       "Anual_Salary                        6\n",
       "region                              0\n",
       "charges                             0\n",
       "dtype: int64"
      ]
     },
     "execution_count": 9,
     "metadata": {},
     "output_type": "execute_result"
    }
   ],
   "source": [
    "df.isnull().sum()"
   ]
  },
  {
   "cell_type": "code",
   "execution_count": 11,
   "id": "5fdee435",
   "metadata": {},
   "outputs": [],
   "source": [
    "df=df.dropna()"
   ]
  },
  {
   "cell_type": "code",
   "execution_count": 12,
   "id": "bb45281d",
   "metadata": {
    "scrolled": true
   },
   "outputs": [
    {
     "data": {
      "text/plain": [
       "age                                0\n",
       "sex                                0\n",
       "bmi                                0\n",
       "children                           0\n",
       "smoker                             0\n",
       "Claim_Amount                       0\n",
       "past_consultations                 0\n",
       "num_of_steps                       0\n",
       "Hospital_expenditure               0\n",
       "NUmber_of_past_hospitalizations    0\n",
       "Anual_Salary                       0\n",
       "region                             0\n",
       "charges                            0\n",
       "dtype: int64"
      ]
     },
     "execution_count": 12,
     "metadata": {},
     "output_type": "execute_result"
    }
   ],
   "source": [
    "df.isnull().sum()"
   ]
  },
  {
   "cell_type": "code",
   "execution_count": 24,
   "id": "df71dfc5",
   "metadata": {
    "scrolled": true
   },
   "outputs": [
    {
     "data": {
      "text/html": [
       "<div>\n",
       "<style scoped>\n",
       "    .dataframe tbody tr th:only-of-type {\n",
       "        vertical-align: middle;\n",
       "    }\n",
       "\n",
       "    .dataframe tbody tr th {\n",
       "        vertical-align: top;\n",
       "    }\n",
       "\n",
       "    .dataframe thead th {\n",
       "        text-align: right;\n",
       "    }\n",
       "</style>\n",
       "<table border=\"1\" class=\"dataframe\">\n",
       "  <thead>\n",
       "    <tr style=\"text-align: right;\">\n",
       "      <th></th>\n",
       "      <th>age</th>\n",
       "      <th>bmi</th>\n",
       "      <th>children</th>\n",
       "      <th>Claim_Amount</th>\n",
       "      <th>past_consultations</th>\n",
       "      <th>num_of_steps</th>\n",
       "      <th>Hospital_expenditure</th>\n",
       "      <th>NUmber_of_past_hospitalizations</th>\n",
       "      <th>Anual_Salary</th>\n",
       "      <th>charges</th>\n",
       "    </tr>\n",
       "  </thead>\n",
       "  <tbody>\n",
       "    <tr>\n",
       "      <th>count</th>\n",
       "      <td>1287.000000</td>\n",
       "      <td>1287.000000</td>\n",
       "      <td>1287.000000</td>\n",
       "      <td>1287.000000</td>\n",
       "      <td>1287.000000</td>\n",
       "      <td>1.287000e+03</td>\n",
       "      <td>1.287000e+03</td>\n",
       "      <td>1287.000000</td>\n",
       "      <td>1.287000e+03</td>\n",
       "      <td>1287.000000</td>\n",
       "    </tr>\n",
       "    <tr>\n",
       "      <th>mean</th>\n",
       "      <td>39.419580</td>\n",
       "      <td>30.655746</td>\n",
       "      <td>1.094794</td>\n",
       "      <td>33498.578933</td>\n",
       "      <td>15.247086</td>\n",
       "      <td>9.113778e+05</td>\n",
       "      <td>1.579929e+07</td>\n",
       "      <td>1.068376</td>\n",
       "      <td>3.727972e+08</td>\n",
       "      <td>13366.072420</td>\n",
       "    </tr>\n",
       "    <tr>\n",
       "      <th>std</th>\n",
       "      <td>14.051987</td>\n",
       "      <td>6.086323</td>\n",
       "      <td>1.202782</td>\n",
       "      <td>15611.720348</td>\n",
       "      <td>7.457366</td>\n",
       "      <td>9.083364e+04</td>\n",
       "      <td>2.653821e+07</td>\n",
       "      <td>0.529079</td>\n",
       "      <td>5.655770e+08</td>\n",
       "      <td>12025.821700</td>\n",
       "    </tr>\n",
       "    <tr>\n",
       "      <th>min</th>\n",
       "      <td>18.000000</td>\n",
       "      <td>15.960000</td>\n",
       "      <td>0.000000</td>\n",
       "      <td>2912.590584</td>\n",
       "      <td>1.000000</td>\n",
       "      <td>6.991570e+05</td>\n",
       "      <td>2.945253e+04</td>\n",
       "      <td>0.000000</td>\n",
       "      <td>3.150786e+06</td>\n",
       "      <td>1121.873900</td>\n",
       "    </tr>\n",
       "    <tr>\n",
       "      <th>25%</th>\n",
       "      <td>27.000000</td>\n",
       "      <td>26.220000</td>\n",
       "      <td>0.000000</td>\n",
       "      <td>20905.974820</td>\n",
       "      <td>9.000000</td>\n",
       "      <td>8.489270e+05</td>\n",
       "      <td>4.114357e+06</td>\n",
       "      <td>1.000000</td>\n",
       "      <td>7.964523e+07</td>\n",
       "      <td>4842.251225</td>\n",
       "    </tr>\n",
       "    <tr>\n",
       "      <th>50%</th>\n",
       "      <td>40.000000</td>\n",
       "      <td>30.360000</td>\n",
       "      <td>1.000000</td>\n",
       "      <td>33968.774160</td>\n",
       "      <td>15.000000</td>\n",
       "      <td>9.152840e+05</td>\n",
       "      <td>7.567064e+06</td>\n",
       "      <td>1.000000</td>\n",
       "      <td>1.451129e+08</td>\n",
       "      <td>9549.565100</td>\n",
       "    </tr>\n",
       "    <tr>\n",
       "      <th>75%</th>\n",
       "      <td>51.000000</td>\n",
       "      <td>34.600000</td>\n",
       "      <td>2.000000</td>\n",
       "      <td>45152.414195</td>\n",
       "      <td>20.000000</td>\n",
       "      <td>9.726140e+05</td>\n",
       "      <td>1.093014e+07</td>\n",
       "      <td>1.000000</td>\n",
       "      <td>3.337660e+08</td>\n",
       "      <td>16964.132700</td>\n",
       "    </tr>\n",
       "    <tr>\n",
       "      <th>max</th>\n",
       "      <td>64.000000</td>\n",
       "      <td>53.130000</td>\n",
       "      <td>5.000000</td>\n",
       "      <td>77277.988480</td>\n",
       "      <td>40.000000</td>\n",
       "      <td>1.107872e+06</td>\n",
       "      <td>2.616317e+08</td>\n",
       "      <td>3.000000</td>\n",
       "      <td>4.117197e+09</td>\n",
       "      <td>63770.428010</td>\n",
       "    </tr>\n",
       "  </tbody>\n",
       "</table>\n",
       "</div>"
      ],
      "text/plain": [
       "               age          bmi     children  Claim_Amount  \\\n",
       "count  1287.000000  1287.000000  1287.000000   1287.000000   \n",
       "mean     39.419580    30.655746     1.094794  33498.578933   \n",
       "std      14.051987     6.086323     1.202782  15611.720348   \n",
       "min      18.000000    15.960000     0.000000   2912.590584   \n",
       "25%      27.000000    26.220000     0.000000  20905.974820   \n",
       "50%      40.000000    30.360000     1.000000  33968.774160   \n",
       "75%      51.000000    34.600000     2.000000  45152.414195   \n",
       "max      64.000000    53.130000     5.000000  77277.988480   \n",
       "\n",
       "       past_consultations  num_of_steps  Hospital_expenditure  \\\n",
       "count         1287.000000  1.287000e+03          1.287000e+03   \n",
       "mean            15.247086  9.113778e+05          1.579929e+07   \n",
       "std              7.457366  9.083364e+04          2.653821e+07   \n",
       "min              1.000000  6.991570e+05          2.945253e+04   \n",
       "25%              9.000000  8.489270e+05          4.114357e+06   \n",
       "50%             15.000000  9.152840e+05          7.567064e+06   \n",
       "75%             20.000000  9.726140e+05          1.093014e+07   \n",
       "max             40.000000  1.107872e+06          2.616317e+08   \n",
       "\n",
       "       NUmber_of_past_hospitalizations  Anual_Salary       charges  \n",
       "count                      1287.000000  1.287000e+03   1287.000000  \n",
       "mean                          1.068376  3.727972e+08  13366.072420  \n",
       "std                           0.529079  5.655770e+08  12025.821700  \n",
       "min                           0.000000  3.150786e+06   1121.873900  \n",
       "25%                           1.000000  7.964523e+07   4842.251225  \n",
       "50%                           1.000000  1.451129e+08   9549.565100  \n",
       "75%                           1.000000  3.337660e+08  16964.132700  \n",
       "max                           3.000000  4.117197e+09  63770.428010  "
      ]
     },
     "execution_count": 24,
     "metadata": {},
     "output_type": "execute_result"
    }
   ],
   "source": [
    "df.describe()"
   ]
  },
  {
   "cell_type": "code",
   "execution_count": 14,
   "id": "55fb62e1",
   "metadata": {},
   "outputs": [
    {
     "data": {
      "text/plain": [
       "['age',\n",
       " 'sex',\n",
       " 'bmi',\n",
       " 'children',\n",
       " 'smoker',\n",
       " 'Claim_Amount',\n",
       " 'past_consultations',\n",
       " 'num_of_steps',\n",
       " 'Hospital_expenditure',\n",
       " 'NUmber_of_past_hospitalizations',\n",
       " 'Anual_Salary',\n",
       " 'region',\n",
       " 'charges']"
      ]
     },
     "execution_count": 14,
     "metadata": {},
     "output_type": "execute_result"
    }
   ],
   "source": [
    "col=list(df.columns)\n",
    "col"
   ]
  },
  {
   "cell_type": "code",
   "execution_count": 15,
   "id": "e043e6fe",
   "metadata": {},
   "outputs": [
    {
     "data": {
      "image/png": "[encoded data removed]",
      "text/plain": [
       "<Figure size 640x480 with 1 Axes>"
      ]
     },
     "metadata": {},
     "output_type": "display_data"
    },
    {
     "data": {
      "image/png": "[encoded data removed]",
      "text/plain": [
       "<Figure size 640x480 with 1 Axes>"
      ]
     },
     "metadata": {},
     "output_type": "display_data"
    },
    {
     "data": {
      "image/png": "[encoded data removed]",
      "text/plain": [
       "<Figure size 640x480 with 1 Axes>"
      ]
     },
     "metadata": {},
     "output_type": "display_data"
    },
    {
     "data": {
      "image/png": "[encoded data removed]",
      "text/plain": [
       "<Figure size 640x480 with 1 Axes>"
      ]
     },
     "metadata": {},
     "output_type": "display_data"
    },
    {
     "data": {
      "image/png": "[encoded data removed]",
      "text/plain": [
       "<Figure size 640x480 with 1 Axes>"
      ]
     },
     "metadata": {},
     "output_type": "display_data"
    },
    {
     "data": {
      "image/png": "[encoded data removed]",
      "text/plain": [
       "<Figure size 640x480 with 1 Axes>"
      ]
     },
     "metadata": {},
     "output_type": "display_data"
    },
    {
     "data": {
      "image/png": "[encoded data removed]",
      "text/plain": [
       "<Figure size 640x480 with 1 Axes>"
      ]
     },
     "metadata": {},
     "output_type": "display_data"
    },
    {
     "data": {
      "image/png": "[encoded data removed]",
      "text/plain": [
       "<Figure size 640x480 with 1 Axes>"
      ]
     },
     "metadata": {},
     "output_type": "display_data"
    },
    {
     "data": {
      "image/png": "[encoded data removed]",
      "text/plain": [
       "<Figure size 640x480 with 1 Axes>"
      ]
     },
     "metadata": {},
     "output_type": "display_data"
    },
    {
     "data": {
      "image/png": "[encoded data removed]",
      "text/plain": [
       "<Figure size 640x480 with 1 Axes>"
      ]
     },
     "metadata": {},
     "output_type": "display_data"
    }
   ],
   "source": [
    "for col_name in col:\n",
    "    if(df[col_name].dtypes !=\"object\"):\n",
    "        plt.boxplot(df[col_name])\n",
    "        plt.xlabel(col_name)\n",
    "        plt.ylabel(\"count\")\n",
    "        plt.show()"
   ]
  },
  {
   "cell_type": "code",
   "execution_count": 20,
   "id": "b616080e",
   "metadata": {},
   "outputs": [],
   "source": [
    "#bmi, past_consultations,hospital_expenditure,number_of_past_hospitalizations,annal_salary\n",
    "Q1=df.bmi.quantile(0.25)\n",
    "Q2=df.bmi.quantile(0.50)\n",
    "Q3=df.bmi.quantile(0.75)\n"
   ]
  },
  {
   "cell_type": "code",
   "execution_count": 21,
   "id": "d55ccd6d",
   "metadata": {},
   "outputs": [
    {
     "data": {
      "text/plain": [
       "26.22"
      ]
     },
     "execution_count": 21,
     "metadata": {},
     "output_type": "execute_result"
    }
   ],
   "source": [
    "Q1\n"
   ]
  },
  {
   "cell_type": "code",
   "execution_count": 22,
   "id": "7410e2f7",
   "metadata": {},
   "outputs": [
    {
     "data": {
      "text/plain": [
       "30.36"
      ]
     },
     "execution_count": 22,
     "metadata": {},
     "output_type": "execute_result"
    }
   ],
   "source": [
    "Q2"
   ]
  },
  {
   "cell_type": "code",
   "execution_count": 23,
   "id": "8dc951e0",
   "metadata": {},
   "outputs": [
    {
     "data": {
      "text/plain": [
       "34.6"
      ]
     },
     "execution_count": 23,
     "metadata": {},
     "output_type": "execute_result"
    }
   ],
   "source": [
    "Q3"
   ]
  },
  {
   "cell_type": "code",
   "execution_count": 25,
   "id": "b4654cea",
   "metadata": {},
   "outputs": [],
   "source": [
    "IQR=Q3-Q1"
   ]
  },
  {
   "cell_type": "code",
   "execution_count": 26,
   "id": "77f52e8b",
   "metadata": {},
   "outputs": [
    {
     "data": {
      "text/plain": [
       "8.380000000000003"
      ]
     },
     "execution_count": 26,
     "metadata": {},
     "output_type": "execute_result"
    }
   ],
   "source": [
    "IQR"
   ]
  },
  {
   "cell_type": "code",
   "execution_count": 27,
   "id": "dbc1fa8b",
   "metadata": {},
   "outputs": [],
   "source": [
    "df = df[(df.bmi >= Q1 -1.5*IQR) & (df.bmi <= Q3 + 1.5*IQR) ]"
   ]
  },
  {
   "cell_type": "code",
   "execution_count": 28,
   "id": "261287ad",
   "metadata": {},
   "outputs": [],
   "source": [
    "Q1 = df.past_consultations.quantile(0.25)\n",
    "Q3 = df.past_consultations.quantile(0.75)\n",
    "IQR = Q3 - Q1\n",
    "df = df[(df.past_consultations >= Q1 -1.5*IQR) & (df.past_consultations <= Q3 + 1.5*IQR) ]\n",
    "\n",
    "Q1 = df.Hospital_expenditure.quantile(0.25)\n",
    "Q3 = df.Hospital_expenditure.quantile(0.75)\n",
    "IQR = Q3 - Q1\n",
    "df = df[(df.Hospital_expenditure >= Q1 -1.5*IQR) & (df.Hospital_expenditure <= Q3 + 1.5*IQR) ]\n",
    "\n",
    "Q1 = df.NUmber_of_past_hospitalizations.quantile(0.25)\n",
    "Q3 = df.NUmber_of_past_hospitalizations.quantile(0.75)\n",
    "IQR = Q3 - Q1\n",
    "df = df[(df.NUmber_of_past_hospitalizations >= Q1 -1.5*IQR) & (df.NUmber_of_past_hospitalizations <= Q3 + 1.5*IQR) ]\n",
    "\n",
    "Q1 = df.Anual_Salary.quantile(0.25)\n",
    "Q3 = df.Anual_Salary.quantile(0.75)\n",
    "IQR = Q3 - Q1\n",
    "df = df[(df.Anual_Salary >= Q1 -1.5*IQR) & (df.Anual_Salary <= Q3 + 1.5*IQR) ]"
   ]
  },
  {
   "cell_type": "code",
   "execution_count": 29,
   "id": "4810d52c",
   "metadata": {},
   "outputs": [],
   "source": [
    "\n",
    "#out=['bmi','past_consultations', 'Hospital_expenditure','NUmber_of_past_hospitalizations','Anual_Salary']"
   ]
  },
  {
   "cell_type": "code",
   "execution_count": 30,
   "id": "a7a7a0f5",
   "metadata": {},
   "outputs": [],
   "source": [
    "#for i in out:\n",
    "#    Q1 = df.i.quantile(0.25)\n",
    "#    Q3 = df.i.quantile(0.75)\n",
    "#    IQR = Q3 - Q1\n",
    "#    df = df[(df.i >= Q1 -1.5*IQR) & (df.i <= Q3 + 1.5*IQR) ]"
   ]
  },
  {
   "cell_type": "code",
   "execution_count": 31,
   "id": "ee93cfcd",
   "metadata": {},
   "outputs": [
    {
     "data": {
      "image/png": "[encoded data removed]",
      "text/plain": [
       "<Figure size 640x480 with 1 Axes>"
      ]
     },
     "metadata": {},
     "output_type": "display_data"
    },
    {
     "data": {
      "image/png": "[encoded data removed]",
      "text/plain": [
       "<Figure size 640x480 with 1 Axes>"
      ]
     },
     "metadata": {},
     "output_type": "display_data"
    },
    {
     "data": {
      "image/png": "[encoded data removed]",
      "text/plain": [
       "<Figure size 640x480 with 1 Axes>"
      ]
     },
     "metadata": {},
     "output_type": "display_data"
    },
    {
     "data": {
      "image/png": "[encoded data removed]",
      "text/plain": [
       "<Figure size 640x480 with 1 Axes>"
      ]
     },
     "metadata": {},
     "output_type": "display_data"
    },
    {
     "data": {
      "image/png": "[encoded data removed]",
      "text/plain": [
       "<Figure size 640x480 with 1 Axes>"
      ]
     },
     "metadata": {},
     "output_type": "display_data"
    },
    {
     "data": {
      "image/png": "[encoded data removed]",
      "text/plain": [
       "<Figure size 640x480 with 1 Axes>"
      ]
     },
     "metadata": {},
     "output_type": "display_data"
    },
    {
     "data": {
      "image/png": "[encoded data removed]",
      "text/plain": [
       "<Figure size 640x480 with 1 Axes>"
      ]
     },
     "metadata": {},
     "output_type": "display_data"
    },
    {
     "data": {
      "image/png": "[encoded data removed]",
      "text/plain": [
       "<Figure size 640x480 with 1 Axes>"
      ]
     },
     "metadata": {},
     "output_type": "display_data"
    },
    {
     "data": {
      "image/png": "[encoded data removed]",
      "text/plain": [
       "<Figure size 640x480 with 1 Axes>"
      ]
     },
     "metadata": {},
     "output_type": "display_data"
    },
    {
     "data": {
      "image/png": "[encoded data removed]",
      "text/plain": [
       "<Figure size 640x480 with 1 Axes>"
      ]
     },
     "metadata": {},
     "output_type": "display_data"
    }
   ],
   "source": [
    "for col_name in col:\n",
    "    if(df[col_name].dtypes !=\"object\"):\n",
    "        plt.boxplot(df[col_name])\n",
    "        plt.xlabel(col_name)\n",
    "        plt.ylabel(\"count\")\n",
    "        plt.show()"
   ]
  },
  {
   "cell_type": "code",
   "execution_count": 32,
   "id": "d1a37cd7",
   "metadata": {},
   "outputs": [
    {
     "data": {
      "text/html": [
       "<div>\n",
       "<style scoped>\n",
       "    .dataframe tbody tr th:only-of-type {\n",
       "        vertical-align: middle;\n",
       "    }\n",
       "\n",
       "    .dataframe tbody tr th {\n",
       "        vertical-align: top;\n",
       "    }\n",
       "\n",
       "    .dataframe thead th {\n",
       "        text-align: right;\n",
       "    }\n",
       "</style>\n",
       "<table border=\"1\" class=\"dataframe\">\n",
       "  <thead>\n",
       "    <tr style=\"text-align: right;\">\n",
       "      <th></th>\n",
       "      <th>age</th>\n",
       "      <th>sex</th>\n",
       "      <th>bmi</th>\n",
       "      <th>children</th>\n",
       "      <th>smoker</th>\n",
       "      <th>Claim_Amount</th>\n",
       "      <th>past_consultations</th>\n",
       "      <th>num_of_steps</th>\n",
       "      <th>Hospital_expenditure</th>\n",
       "      <th>NUmber_of_past_hospitalizations</th>\n",
       "      <th>Anual_Salary</th>\n",
       "      <th>region</th>\n",
       "      <th>charges</th>\n",
       "    </tr>\n",
       "  </thead>\n",
       "  <tbody>\n",
       "    <tr>\n",
       "      <th>151</th>\n",
       "      <td>25.0</td>\n",
       "      <td>male</td>\n",
       "      <td>27.550</td>\n",
       "      <td>0.0</td>\n",
       "      <td>no</td>\n",
       "      <td>39148.95495</td>\n",
       "      <td>10.0</td>\n",
       "      <td>780652.0</td>\n",
       "      <td>8.614147e+06</td>\n",
       "      <td>1.0</td>\n",
       "      <td>54526009.33</td>\n",
       "      <td>northwest</td>\n",
       "      <td>2523.16950</td>\n",
       "    </tr>\n",
       "    <tr>\n",
       "      <th>152</th>\n",
       "      <td>22.0</td>\n",
       "      <td>female</td>\n",
       "      <td>20.235</td>\n",
       "      <td>0.0</td>\n",
       "      <td>no</td>\n",
       "      <td>41547.52536</td>\n",
       "      <td>13.0</td>\n",
       "      <td>802627.0</td>\n",
       "      <td>2.491594e+05</td>\n",
       "      <td>1.0</td>\n",
       "      <td>16718473.13</td>\n",
       "      <td>northwest</td>\n",
       "      <td>2527.81865</td>\n",
       "    </tr>\n",
       "    <tr>\n",
       "      <th>153</th>\n",
       "      <td>25.0</td>\n",
       "      <td>male</td>\n",
       "      <td>35.625</td>\n",
       "      <td>0.0</td>\n",
       "      <td>no</td>\n",
       "      <td>39660.60193</td>\n",
       "      <td>12.0</td>\n",
       "      <td>770773.0</td>\n",
       "      <td>3.043323e+06</td>\n",
       "      <td>1.0</td>\n",
       "      <td>48526941.68</td>\n",
       "      <td>northwest</td>\n",
       "      <td>2534.39375</td>\n",
       "    </tr>\n",
       "    <tr>\n",
       "      <th>154</th>\n",
       "      <td>20.0</td>\n",
       "      <td>male</td>\n",
       "      <td>31.130</td>\n",
       "      <td>2.0</td>\n",
       "      <td>no</td>\n",
       "      <td>16032.87148</td>\n",
       "      <td>7.0</td>\n",
       "      <td>769255.0</td>\n",
       "      <td>1.599069e+06</td>\n",
       "      <td>1.0</td>\n",
       "      <td>24412621.85</td>\n",
       "      <td>southeast</td>\n",
       "      <td>2566.47070</td>\n",
       "    </tr>\n",
       "    <tr>\n",
       "      <th>155</th>\n",
       "      <td>21.0</td>\n",
       "      <td>female</td>\n",
       "      <td>17.400</td>\n",
       "      <td>1.0</td>\n",
       "      <td>no</td>\n",
       "      <td>31090.98977</td>\n",
       "      <td>21.0</td>\n",
       "      <td>778769.0</td>\n",
       "      <td>3.015365e+06</td>\n",
       "      <td>1.0</td>\n",
       "      <td>58535788.80</td>\n",
       "      <td>southwest</td>\n",
       "      <td>2585.26900</td>\n",
       "    </tr>\n",
       "  </tbody>\n",
       "</table>\n",
       "</div>"
      ],
      "text/plain": [
       "      age     sex     bmi  children smoker  Claim_Amount  past_consultations  \\\n",
       "151  25.0    male  27.550       0.0     no   39148.95495                10.0   \n",
       "152  22.0  female  20.235       0.0     no   41547.52536                13.0   \n",
       "153  25.0    male  35.625       0.0     no   39660.60193                12.0   \n",
       "154  20.0    male  31.130       2.0     no   16032.87148                 7.0   \n",
       "155  21.0  female  17.400       1.0     no   31090.98977                21.0   \n",
       "\n",
       "     num_of_steps  Hospital_expenditure  NUmber_of_past_hospitalizations  \\\n",
       "151      780652.0          8.614147e+06                              1.0   \n",
       "152      802627.0          2.491594e+05                              1.0   \n",
       "153      770773.0          3.043323e+06                              1.0   \n",
       "154      769255.0          1.599069e+06                              1.0   \n",
       "155      778769.0          3.015365e+06                              1.0   \n",
       "\n",
       "     Anual_Salary     region     charges  \n",
       "151   54526009.33  northwest  2523.16950  \n",
       "152   16718473.13  northwest  2527.81865  \n",
       "153   48526941.68  northwest  2534.39375  \n",
       "154   24412621.85  southeast  2566.47070  \n",
       "155   58535788.80  southwest  2585.26900  "
      ]
     },
     "execution_count": 32,
     "metadata": {},
     "output_type": "execute_result"
    }
   ],
   "source": [
    "df.head()"
   ]
  },
  {
   "cell_type": "markdown",
   "id": "7b7c65eb",
   "metadata": {},
   "source": [
    "# Feature Selection"
   ]
  },
  {
   "cell_type": "markdown",
   "id": "796134f1",
   "metadata": {},
   "source": [
    "# VIF- Variance Inflation Factor"
   ]
  },
  {
   "cell_type": "code",
   "execution_count": 33,
   "id": "f7800b5c",
   "metadata": {},
   "outputs": [],
   "source": [
    "# VIF --> Variance Inflation Factor\n",
    "# VIF = 1 --> Variables are not correlated\n",
    "# VIF (1-6) --> Variables are moderately correlated --> Acceptable\n",
    "# VIF >6 --> vARIABLES ARE HIGHLY CORRELATED (Drop those vcolumns)"
   ]
  },
  {
   "cell_type": "code",
   "execution_count": 35,
   "id": "b579c03c",
   "metadata": {},
   "outputs": [
    {
     "data": {
      "text/plain": [
       "['age',\n",
       " 'bmi',\n",
       " 'children',\n",
       " 'Claim_Amount',\n",
       " 'past_consultations',\n",
       " 'num_of_steps',\n",
       " 'Hospital_expenditure',\n",
       " 'NUmber_of_past_hospitalizations',\n",
       " 'Anual_Salary']"
      ]
     },
     "execution_count": 35,
     "metadata": {},
     "output_type": "execute_result"
    }
   ],
   "source": [
    "col_list"
   ]
  },
  {
   "cell_type": "code",
   "execution_count": 36,
   "id": "2bd34267",
   "metadata": {},
   "outputs": [
    {
     "data": {
      "text/html": [
       "<div>\n",
       "<style scoped>\n",
       "    .dataframe tbody tr th:only-of-type {\n",
       "        vertical-align: middle;\n",
       "    }\n",
       "\n",
       "    .dataframe tbody tr th {\n",
       "        vertical-align: top;\n",
       "    }\n",
       "\n",
       "    .dataframe thead th {\n",
       "        text-align: right;\n",
       "    }\n",
       "</style>\n",
       "<table border=\"1\" class=\"dataframe\">\n",
       "  <thead>\n",
       "    <tr style=\"text-align: right;\">\n",
       "      <th></th>\n",
       "      <th>age</th>\n",
       "      <th>bmi</th>\n",
       "      <th>children</th>\n",
       "      <th>Claim_Amount</th>\n",
       "      <th>past_consultations</th>\n",
       "      <th>num_of_steps</th>\n",
       "      <th>Hospital_expenditure</th>\n",
       "      <th>NUmber_of_past_hospitalizations</th>\n",
       "      <th>Anual_Salary</th>\n",
       "    </tr>\n",
       "  </thead>\n",
       "  <tbody>\n",
       "    <tr>\n",
       "      <th>151</th>\n",
       "      <td>25.0</td>\n",
       "      <td>27.550</td>\n",
       "      <td>0.0</td>\n",
       "      <td>39148.95495</td>\n",
       "      <td>10.0</td>\n",
       "      <td>780652.0</td>\n",
       "      <td>8.614147e+06</td>\n",
       "      <td>1.0</td>\n",
       "      <td>5.452601e+07</td>\n",
       "    </tr>\n",
       "    <tr>\n",
       "      <th>152</th>\n",
       "      <td>22.0</td>\n",
       "      <td>20.235</td>\n",
       "      <td>0.0</td>\n",
       "      <td>41547.52536</td>\n",
       "      <td>13.0</td>\n",
       "      <td>802627.0</td>\n",
       "      <td>2.491594e+05</td>\n",
       "      <td>1.0</td>\n",
       "      <td>1.671847e+07</td>\n",
       "    </tr>\n",
       "    <tr>\n",
       "      <th>153</th>\n",
       "      <td>25.0</td>\n",
       "      <td>35.625</td>\n",
       "      <td>0.0</td>\n",
       "      <td>39660.60193</td>\n",
       "      <td>12.0</td>\n",
       "      <td>770773.0</td>\n",
       "      <td>3.043323e+06</td>\n",
       "      <td>1.0</td>\n",
       "      <td>4.852694e+07</td>\n",
       "    </tr>\n",
       "    <tr>\n",
       "      <th>154</th>\n",
       "      <td>20.0</td>\n",
       "      <td>31.130</td>\n",
       "      <td>2.0</td>\n",
       "      <td>16032.87148</td>\n",
       "      <td>7.0</td>\n",
       "      <td>769255.0</td>\n",
       "      <td>1.599069e+06</td>\n",
       "      <td>1.0</td>\n",
       "      <td>2.441262e+07</td>\n",
       "    </tr>\n",
       "    <tr>\n",
       "      <th>155</th>\n",
       "      <td>21.0</td>\n",
       "      <td>17.400</td>\n",
       "      <td>1.0</td>\n",
       "      <td>31090.98977</td>\n",
       "      <td>21.0</td>\n",
       "      <td>778769.0</td>\n",
       "      <td>3.015365e+06</td>\n",
       "      <td>1.0</td>\n",
       "      <td>5.853579e+07</td>\n",
       "    </tr>\n",
       "    <tr>\n",
       "      <th>...</th>\n",
       "      <td>...</td>\n",
       "      <td>...</td>\n",
       "      <td>...</td>\n",
       "      <td>...</td>\n",
       "      <td>...</td>\n",
       "      <td>...</td>\n",
       "      <td>...</td>\n",
       "      <td>...</td>\n",
       "      <td>...</td>\n",
       "    </tr>\n",
       "    <tr>\n",
       "      <th>1036</th>\n",
       "      <td>43.0</td>\n",
       "      <td>20.130</td>\n",
       "      <td>2.0</td>\n",
       "      <td>44184.65414</td>\n",
       "      <td>19.0</td>\n",
       "      <td>984247.0</td>\n",
       "      <td>1.473451e+07</td>\n",
       "      <td>1.0</td>\n",
       "      <td>3.687871e+08</td>\n",
       "    </tr>\n",
       "    <tr>\n",
       "      <th>1041</th>\n",
       "      <td>24.0</td>\n",
       "      <td>27.600</td>\n",
       "      <td>0.0</td>\n",
       "      <td>27184.27803</td>\n",
       "      <td>9.0</td>\n",
       "      <td>980010.0</td>\n",
       "      <td>1.266673e+07</td>\n",
       "      <td>1.0</td>\n",
       "      <td>3.743228e+08</td>\n",
       "    </tr>\n",
       "    <tr>\n",
       "      <th>1046</th>\n",
       "      <td>29.0</td>\n",
       "      <td>27.940</td>\n",
       "      <td>1.0</td>\n",
       "      <td>51168.25474</td>\n",
       "      <td>23.0</td>\n",
       "      <td>993751.0</td>\n",
       "      <td>1.665982e+07</td>\n",
       "      <td>1.0</td>\n",
       "      <td>3.712188e+08</td>\n",
       "    </tr>\n",
       "    <tr>\n",
       "      <th>1048</th>\n",
       "      <td>31.0</td>\n",
       "      <td>25.900</td>\n",
       "      <td>3.0</td>\n",
       "      <td>46619.40230</td>\n",
       "      <td>27.0</td>\n",
       "      <td>989387.0</td>\n",
       "      <td>1.361938e+07</td>\n",
       "      <td>1.0</td>\n",
       "      <td>3.812895e+08</td>\n",
       "    </tr>\n",
       "    <tr>\n",
       "      <th>1050</th>\n",
       "      <td>31.0</td>\n",
       "      <td>29.810</td>\n",
       "      <td>0.0</td>\n",
       "      <td>24382.58056</td>\n",
       "      <td>21.0</td>\n",
       "      <td>973924.0</td>\n",
       "      <td>1.028991e+07</td>\n",
       "      <td>1.0</td>\n",
       "      <td>3.745310e+08</td>\n",
       "    </tr>\n",
       "  </tbody>\n",
       "</table>\n",
       "<p>851 rows × 9 columns</p>\n",
       "</div>"
      ],
      "text/plain": [
       "       age     bmi  children  Claim_Amount  past_consultations  num_of_steps  \\\n",
       "151   25.0  27.550       0.0   39148.95495                10.0      780652.0   \n",
       "152   22.0  20.235       0.0   41547.52536                13.0      802627.0   \n",
       "153   25.0  35.625       0.0   39660.60193                12.0      770773.0   \n",
       "154   20.0  31.130       2.0   16032.87148                 7.0      769255.0   \n",
       "155   21.0  17.400       1.0   31090.98977                21.0      778769.0   \n",
       "...    ...     ...       ...           ...                 ...           ...   \n",
       "1036  43.0  20.130       2.0   44184.65414                19.0      984247.0   \n",
       "1041  24.0  27.600       0.0   27184.27803                 9.0      980010.0   \n",
       "1046  29.0  27.940       1.0   51168.25474                23.0      993751.0   \n",
       "1048  31.0  25.900       3.0   46619.40230                27.0      989387.0   \n",
       "1050  31.0  29.810       0.0   24382.58056                21.0      973924.0   \n",
       "\n",
       "      Hospital_expenditure  NUmber_of_past_hospitalizations  Anual_Salary  \n",
       "151           8.614147e+06                              1.0  5.452601e+07  \n",
       "152           2.491594e+05                              1.0  1.671847e+07  \n",
       "153           3.043323e+06                              1.0  4.852694e+07  \n",
       "154           1.599069e+06                              1.0  2.441262e+07  \n",
       "155           3.015365e+06                              1.0  5.853579e+07  \n",
       "...                    ...                              ...           ...  \n",
       "1036          1.473451e+07                              1.0  3.687871e+08  \n",
       "1041          1.266673e+07                              1.0  3.743228e+08  \n",
       "1046          1.665982e+07                              1.0  3.712188e+08  \n",
       "1048          1.361938e+07                              1.0  3.812895e+08  \n",
       "1050          1.028991e+07                              1.0  3.745310e+08  \n",
       "\n",
       "[851 rows x 9 columns]"
      ]
     },
     "execution_count": 36,
     "metadata": {},
     "output_type": "execute_result"
    }
   ],
   "source": [
    "X"
   ]
  },
  {
   "cell_type": "code",
   "execution_count": 34,
   "id": "e1c7b3bf",
   "metadata": {},
   "outputs": [
    {
     "name": "stdout",
     "output_type": "stream",
     "text": [
      "                           feature          VIF\n",
      "0                              age     2.244063\n",
      "1                              bmi     1.050993\n",
      "2                         children     1.077404\n",
      "3                     Claim_Amount     1.040690\n",
      "4               past_consultations     1.080557\n",
      "5                     num_of_steps     5.999974\n",
      "6             Hospital_expenditure     1.182321\n",
      "7  NUmber_of_past_hospitalizations  1405.296038\n",
      "8                     Anual_Salary     4.006099\n"
     ]
    }
   ],
   "source": [
    "from statsmodels.stats.outliers_influence import variance_inflation_factor \n",
    "col_list = []\n",
    "for col in df.columns:\n",
    "    if ((df[col].dtype != 'object') & (col != 'charges') ):#only num cols except for the charges column\n",
    "        col_list.append(col)\n",
    "        \n",
    "X = df[col_list]\n",
    "\n",
    "vif_data = pd.DataFrame() \n",
    "vif_data[\"feature\"] = X.columns\n",
    "vif_data[\"VIF\"] = [variance_inflation_factor(X.values, i) for i in range(len(X.columns))] \n",
    "print(vif_data)"
   ]
  },
  {
   "cell_type": "code",
   "execution_count": 37,
   "id": "da417c58",
   "metadata": {},
   "outputs": [
    {
     "data": {
      "text/plain": [
       "array([[2.50000000e+01, 2.75500000e+01, 0.00000000e+00, ...,\n",
       "        8.61414747e+06, 1.00000000e+00, 5.45260093e+07],\n",
       "       [2.20000000e+01, 2.02350000e+01, 0.00000000e+00, ...,\n",
       "        2.49159425e+05, 1.00000000e+00, 1.67184731e+07],\n",
       "       [2.50000000e+01, 3.56250000e+01, 0.00000000e+00, ...,\n",
       "        3.04332279e+06, 1.00000000e+00, 4.85269417e+07],\n",
       "       ...,\n",
       "       [2.90000000e+01, 2.79400000e+01, 1.00000000e+00, ...,\n",
       "        1.66598217e+07, 1.00000000e+00, 3.71218761e+08],\n",
       "       [3.10000000e+01, 2.59000000e+01, 3.00000000e+00, ...,\n",
       "        1.36193781e+07, 1.00000000e+00, 3.81289535e+08],\n",
       "       [3.10000000e+01, 2.98100000e+01, 0.00000000e+00, ...,\n",
       "        1.02899068e+07, 1.00000000e+00, 3.74530951e+08]])"
      ]
     },
     "execution_count": 37,
     "metadata": {},
     "output_type": "execute_result"
    }
   ],
   "source": [
    "X.values"
   ]
  },
  {
   "cell_type": "code",
   "execution_count": 38,
   "id": "6e24d581",
   "metadata": {},
   "outputs": [
    {
     "name": "stdout",
     "output_type": "stream",
     "text": [
      "0\n",
      "1\n",
      "2\n",
      "3\n",
      "4\n",
      "5\n",
      "6\n",
      "7\n",
      "8\n"
     ]
    }
   ],
   "source": [
    "for i in range(len(X.columns)):\n",
    "    print(i)"
   ]
  },
  {
   "cell_type": "code",
   "execution_count": 40,
   "id": "26d840be",
   "metadata": {},
   "outputs": [
    {
     "data": {
      "text/plain": [
       "array([[25.0, 'male', 27.55, ..., 54526009.33, 'northwest', 2523.1695],\n",
       "       [22.0, 'female', 20.235, ..., 16718473.13, 'northwest',\n",
       "        2527.81865],\n",
       "       [25.0, 'male', 35.625, ..., 48526941.68, 'northwest', 2534.39375],\n",
       "       ...,\n",
       "       [29.0, 'female', 27.94, ..., 371218761.2, 'southeast', 19107.7796],\n",
       "       [31.0, 'male', 25.9, ..., 381289534.6, 'southwest', 19199.944],\n",
       "       [31.0, 'male', 29.81, ..., 374530950.6, 'southeast', 19350.3689]],\n",
       "      dtype=object)"
      ]
     },
     "execution_count": 40,
     "metadata": {},
     "output_type": "execute_result"
    }
   ],
   "source": [
    "df.values"
   ]
  },
  {
   "cell_type": "code",
   "execution_count": 41,
   "id": "bebecc98",
   "metadata": {},
   "outputs": [
    {
     "name": "stdout",
     "output_type": "stream",
     "text": [
      "                           feature          VIF\n",
      "0                              age     2.244063\n",
      "1                              bmi     1.050993\n",
      "2                         children     1.077404\n",
      "3                     Claim_Amount     1.040690\n",
      "4               past_consultations     1.080557\n",
      "5                     num_of_steps     5.999974\n",
      "6             Hospital_expenditure     1.182321\n",
      "7  NUmber_of_past_hospitalizations  1405.296038\n",
      "8                     Anual_Salary     4.006099\n"
     ]
    }
   ],
   "source": [
    "from statsmodels.stats.outliers_influence import variance_inflation_factor \n",
    "col_list = []\n",
    "for col in df.columns:\n",
    "    if ((df[col].dtype != 'object') & (col != 'charges') ):#only num cols except for the charges column\n",
    "        col_list.append(col)\n",
    "        \n",
    "X = df[col_list]\n",
    "\n",
    "vif_data = pd.DataFrame() \n",
    "vif_data[\"feature\"] = X.columns\n",
    "vif_data[\"VIF\"] = [variance_inflation_factor(X.values, i) for i in range(len(X.columns))] \n",
    "print(vif_data)"
   ]
  },
  {
   "cell_type": "code",
   "execution_count": 42,
   "id": "1a551da5",
   "metadata": {},
   "outputs": [],
   "source": [
    "df = df.drop(['NUmber_of_past_hospitalizations'],axis = 1)"
   ]
  },
  {
   "cell_type": "code",
   "execution_count": 44,
   "id": "86015164",
   "metadata": {},
   "outputs": [
    {
     "name": "stdout",
     "output_type": "stream",
     "text": [
      "                feature        VIF\n",
      "0                   age  16.334839\n",
      "1                   bmi  26.966942\n",
      "2              children   2.055611\n",
      "3          Claim_Amount   5.813854\n",
      "4    past_consultations   6.417597\n",
      "5          num_of_steps  58.693809\n",
      "6  Hospital_expenditure   5.524176\n",
      "7          Anual_Salary   6.183456\n"
     ]
    }
   ],
   "source": [
    "from statsmodels.stats.outliers_influence import variance_inflation_factor \n",
    "col_list = []\n",
    "for col in df.columns:\n",
    "    if ((df[col].dtype != 'object') & (col != 'charges') ):#only num cols except for the charges column\n",
    "        col_list.append(col)\n",
    "        \n",
    "X = df[col_list]\n",
    "\n",
    "vif_data = pd.DataFrame() \n",
    "vif_data[\"feature\"] = X.columns\n",
    "vif_data[\"VIF\"] = [variance_inflation_factor(X.values, i) for i in range(len(X.columns))] \n",
    "print(vif_data)"
   ]
  },
  {
   "cell_type": "code",
   "execution_count": 45,
   "id": "5f500e3b",
   "metadata": {},
   "outputs": [],
   "source": [
    "df = df.drop(['num_of_steps'],axis = 1)"
   ]
  },
  {
   "cell_type": "code",
   "execution_count": 46,
   "id": "ebf4d21b",
   "metadata": {},
   "outputs": [
    {
     "name": "stdout",
     "output_type": "stream",
     "text": [
      "                feature        VIF\n",
      "0                   age  13.463550\n",
      "1                   bmi  14.548677\n",
      "2              children   1.945699\n",
      "3          Claim_Amount   5.267436\n",
      "4    past_consultations   5.911489\n",
      "5  Hospital_expenditure   5.218410\n",
      "6          Anual_Salary   5.990854\n"
     ]
    }
   ],
   "source": [
    "from statsmodels.stats.outliers_influence import variance_inflation_factor \n",
    "col_list = []\n",
    "for col in df.columns:\n",
    "    if ((df[col].dtype != 'object') & (col != 'charges') ):#only num cols except for the charges column\n",
    "        col_list.append(col)\n",
    "        \n",
    "X = df[col_list]\n",
    "\n",
    "vif_data = pd.DataFrame() \n",
    "vif_data[\"feature\"] = X.columns\n",
    "vif_data[\"VIF\"] = [variance_inflation_factor(X.values, i) for i in range(len(X.columns))] \n",
    "print(vif_data)"
   ]
  },
  {
   "cell_type": "code",
   "execution_count": 47,
   "id": "d97995ae",
   "metadata": {},
   "outputs": [],
   "source": [
    "df = df.drop(['bmi'],axis = 1)"
   ]
  },
  {
   "cell_type": "code",
   "execution_count": 48,
   "id": "bd41b557",
   "metadata": {},
   "outputs": [
    {
     "name": "stdout",
     "output_type": "stream",
     "text": [
      "                feature       VIF\n",
      "0                   age  8.739225\n",
      "1              children  1.827241\n",
      "2          Claim_Amount  4.846444\n",
      "3    past_consultations  5.589741\n",
      "4  Hospital_expenditure  4.889264\n",
      "5          Anual_Salary  5.841066\n"
     ]
    }
   ],
   "source": [
    "from statsmodels.stats.outliers_influence import variance_inflation_factor \n",
    "col_list = []\n",
    "for col in df.columns:\n",
    "    if ((df[col].dtype != 'object') & (col != 'charges') ):#only num cols except for the charges column\n",
    "        col_list.append(col)\n",
    "        \n",
    "X = df[col_list]\n",
    "\n",
    "vif_data = pd.DataFrame() \n",
    "vif_data[\"feature\"] = X.columns\n",
    "vif_data[\"VIF\"] = [variance_inflation_factor(X.values, i) for i in range(len(X.columns))] \n",
    "print(vif_data)"
   ]
  },
  {
   "cell_type": "code",
   "execution_count": 49,
   "id": "c90d58e8",
   "metadata": {},
   "outputs": [],
   "source": [
    "df = df.drop(['age'],axis = 1)"
   ]
  },
  {
   "cell_type": "code",
   "execution_count": 50,
   "id": "159cba82",
   "metadata": {},
   "outputs": [
    {
     "name": "stdout",
     "output_type": "stream",
     "text": [
      "                feature       VIF\n",
      "0              children  1.816913\n",
      "1          Claim_Amount  4.264550\n",
      "2    past_consultations  4.927842\n",
      "3  Hospital_expenditure  4.672553\n",
      "4          Anual_Salary  5.107190\n"
     ]
    }
   ],
   "source": [
    "from statsmodels.stats.outliers_influence import variance_inflation_factor \n",
    "col_list = []\n",
    "for col in df.columns:\n",
    "    if ((df[col].dtype != 'object') & (col != 'charges') ):#only num cols except for the charges column\n",
    "        col_list.append(col)\n",
    "        \n",
    "X = df[col_list]\n",
    "\n",
    "vif_data = pd.DataFrame() \n",
    "vif_data[\"feature\"] = X.columns\n",
    "vif_data[\"VIF\"] = [variance_inflation_factor(X.values, i) for i in range(len(X.columns))] \n",
    "print(vif_data)"
   ]
  },
  {
   "cell_type": "code",
   "execution_count": 51,
   "id": "b78317f0",
   "metadata": {},
   "outputs": [],
   "source": [
    "x= df.loc[:,[\"children\",\"Claim_Amount\",\"past_consultations\",\"Hospital_expenditure\",\"Anual_Salary\"]]\n",
    "y=df.loc[:,['charges']]"
   ]
  },
  {
   "cell_type": "code",
   "execution_count": 52,
   "id": "284131f2",
   "metadata": {},
   "outputs": [],
   "source": [
    "from sklearn.model_selection import train_test_split\n",
    "from sklearn.linear_model import LinearRegression"
   ]
  },
  {
   "cell_type": "code",
   "execution_count": 54,
   "id": "cf879f9d",
   "metadata": {},
   "outputs": [],
   "source": [
    "x_train,x_test,y_train,y_test = train_test_split(x,y, test_size = 0.2,random_state = 23)"
   ]
  },
  {
   "cell_type": "code",
   "execution_count": 55,
   "id": "1d62f24b",
   "metadata": {},
   "outputs": [
    {
     "data": {
      "text/html": [
       "<style>#sk-container-id-1 {color: black;background-color: white;}#sk-container-id-1 pre{padding: 0;}#sk-container-id-1 div.sk-toggleable {background-color: white;}#sk-container-id-1 label.sk-toggleable__label {cursor: pointer;display: block;width: 100%;margin-bottom: 0;padding: 0.3em;box-sizing: border-box;text-align: center;}#sk-container-id-1 label.sk-toggleable__label-arrow:before {content: \"▸\";float: left;margin-right: 0.25em;color: #696969;}#sk-container-id-1 label.sk-toggleable__label-arrow:hover:before {color: black;}#sk-container-id-1 div.sk-estimator:hover label.sk-toggleable__label-arrow:before {color: black;}#sk-container-id-1 div.sk-toggleable__content {max-height: 0;max-width: 0;overflow: hidden;text-align: left;background-color: #f0f8ff;}#sk-container-id-1 div.sk-toggleable__content pre {margin: 0.2em;color: black;border-radius: 0.25em;background-color: #f0f8ff;}#sk-container-id-1 input.sk-toggleable__control:checked~div.sk-toggleable__content {max-height: 200px;max-width: 100%;overflow: auto;}#sk-container-id-1 input.sk-toggleable__control:checked~label.sk-toggleable__label-arrow:before {content: \"▾\";}#sk-container-id-1 div.sk-estimator input.sk-toggleable__control:checked~label.sk-toggleable__label {background-color: #d4ebff;}#sk-container-id-1 div.sk-label input.sk-toggleable__control:checked~label.sk-toggleable__label {background-color: #d4ebff;}#sk-container-id-1 input.sk-hidden--visually {border: 0;clip: rect(1px 1px 1px 1px);clip: rect(1px, 1px, 1px, 1px);height: 1px;margin: -1px;overflow: hidden;padding: 0;position: absolute;width: 1px;}#sk-container-id-1 div.sk-estimator {font-family: monospace;background-color: #f0f8ff;border: 1px dotted black;border-radius: 0.25em;box-sizing: border-box;margin-bottom: 0.5em;}#sk-container-id-1 div.sk-estimator:hover {background-color: #d4ebff;}#sk-container-id-1 div.sk-parallel-item::after {content: \"\";width: 100%;border-bottom: 1px solid gray;flex-grow: 1;}#sk-container-id-1 div.sk-label:hover label.sk-toggleable__label {background-color: #d4ebff;}#sk-container-id-1 div.sk-serial::before {content: \"\";position: absolute;border-left: 1px solid gray;box-sizing: border-box;top: 0;bottom: 0;left: 50%;z-index: 0;}#sk-container-id-1 div.sk-serial {display: flex;flex-direction: column;align-items: center;background-color: white;padding-right: 0.2em;padding-left: 0.2em;position: relative;}#sk-container-id-1 div.sk-item {position: relative;z-index: 1;}#sk-container-id-1 div.sk-parallel {display: flex;align-items: stretch;justify-content: center;background-color: white;position: relative;}#sk-container-id-1 div.sk-item::before, #sk-container-id-1 div.sk-parallel-item::before {content: \"\";position: absolute;border-left: 1px solid gray;box-sizing: border-box;top: 0;bottom: 0;left: 50%;z-index: -1;}#sk-container-id-1 div.sk-parallel-item {display: flex;flex-direction: column;z-index: 1;position: relative;background-color: white;}#sk-container-id-1 div.sk-parallel-item:first-child::after {align-self: flex-end;width: 50%;}#sk-container-id-1 div.sk-parallel-item:last-child::after {align-self: flex-start;width: 50%;}#sk-container-id-1 div.sk-parallel-item:only-child::after {width: 0;}#sk-container-id-1 div.sk-dashed-wrapped {border: 1px dashed gray;margin: 0 0.4em 0.5em 0.4em;box-sizing: border-box;padding-bottom: 0.4em;background-color: white;}#sk-container-id-1 div.sk-label label {font-family: monospace;font-weight: bold;display: inline-block;line-height: 1.2em;}#sk-container-id-1 div.sk-label-container {text-align: center;}#sk-container-id-1 div.sk-container {/* jupyter's `normalize.less` sets `[hidden] { display: none; }` but bootstrap.min.css set `[hidden] { display: none !important; }` so we also need the `!important` here to be able to override the default hidden behavior on the sphinx rendered scikit-learn.org. See: https://github.com/scikit-learn/scikit-learn/issues/21755 */display: inline-block !important;position: relative;}#sk-container-id-1 div.sk-text-repr-fallback {display: none;}</style><div id=\"sk-container-id-1\" class=\"sk-top-container\"><div class=\"sk-text-repr-fallback\"><pre>LinearRegression()</pre><b>In a Jupyter environment, please rerun this cell to show the HTML representation or trust the notebook. <br />On GitHub, the HTML representation is unable to render, please try loading this page with nbviewer.org.</b></div><div class=\"sk-container\" hidden><div class=\"sk-item\"><div class=\"sk-estimator sk-toggleable\"><input class=\"sk-toggleable__control sk-hidden--visually\" id=\"sk-estimator-id-1\" type=\"checkbox\" checked><label for=\"sk-estimator-id-1\" class=\"sk-toggleable__label sk-toggleable__label-arrow\">LinearRegression</label><div class=\"sk-toggleable__content\"><pre>LinearRegression()</pre></div></div></div></div></div>"
      ],
      "text/plain": [
       "LinearRegression()"
      ]
     },
     "execution_count": 55,
     "metadata": {},
     "output_type": "execute_result"
    }
   ],
   "source": [
    "l_model=LinearRegression()\n",
    "l_model.fit(x_train,y_train)"
   ]
  },
  {
   "cell_type": "code",
   "execution_count": 56,
   "id": "c9b05f95",
   "metadata": {},
   "outputs": [],
   "source": [
    "y_pred=l_model.predict(x_test)"
   ]
  },
  {
   "cell_type": "code",
   "execution_count": 57,
   "id": "d7a59286",
   "metadata": {},
   "outputs": [],
   "source": [
    "from sklearn.metrics import r2_score\n"
   ]
  },
  {
   "cell_type": "code",
   "execution_count": 60,
   "id": "30849d28",
   "metadata": {},
   "outputs": [
    {
     "data": {
      "text/plain": [
       "85.99589566833761"
      ]
     },
     "execution_count": 60,
     "metadata": {},
     "output_type": "execute_result"
    }
   ],
   "source": [
    "accuracy=r2_score(y_test,y_pred)\n",
    "accuracy*100"
   ]
  },
  {
   "cell_type": "code",
   "execution_count": null,
   "id": "0759ff45",
   "metadata": {},
   "outputs": [],
   "source": []
  }
 ],
 "metadata": {
  "kernelspec": {
   "display_name": "Python 3 (ipykernel)",
   "language": "python",
   "name": "python3"
  },
  "language_info": {
   "codemirror_mode": {
    "name": "ipython",
    "version": 3
   },
   "file_extension": ".py",
   "mimetype": "text/x-python",
   "name": "python",
   "nbconvert_exporter": "python",
   "pygments_lexer": "ipython3",
   "version": "3.10.9"
  }
 },
 "nbformat": 4,
 "nbformat_minor": 5
}
