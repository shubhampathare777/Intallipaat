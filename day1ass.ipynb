{
 "cells": [
  {
   "cell_type": "code",
   "execution_count": 1,
   "id": "9db0c277",
   "metadata": {},
   "outputs": [],
   "source": [
    "import module as m"
   ]
  },
  {
   "cell_type": "code",
   "execution_count": 2,
   "id": "a153a50c",
   "metadata": {},
   "outputs": [
    {
     "data": {
      "text/plain": [
       "40"
      ]
     },
     "execution_count": 2,
     "metadata": {},
     "output_type": "execute_result"
    }
   ],
   "source": [
    "m.add(20,20)"
   ]
  },
  {
   "cell_type": "code",
   "execution_count": 3,
   "id": "ed35eb80",
   "metadata": {},
   "outputs": [],
   "source": [
    "#armstrong number"
   ]
  },
  {
   "cell_type": "code",
   "execution_count": 21,
   "id": "ea203e28",
   "metadata": {},
   "outputs": [
    {
     "name": "stdout",
     "output_type": "stream",
     "text": [
      "enter the number you need to check:123\n",
      "123 not armstrong\n"
     ]
    }
   ],
   "source": [
    "a=int(input(\"enter the number you need to check:\"))\n",
    "sum=0\n",
    "temp=a\n",
    "while (temp > 0):\n",
    "    digit=temp%10\n",
    "    sum+=digit**3\n",
    "    temp//=10\n",
    "if a==sum:\n",
    "    print(a,\"it is armstrong\")\n",
    "else:\n",
    "    print(a,\"not armstrong\")\n",
    "\n"
   ]
  },
  {
   "cell_type": "code",
   "execution_count": 26,
   "id": "26e6aad8",
   "metadata": {},
   "outputs": [
    {
     "name": "stdout",
     "output_type": "stream",
     "text": [
      "enter the number to check wether it is prime or not:1\n",
      "not a prime no\n"
     ]
    }
   ],
   "source": [
    "#prime no\n",
    "num= int(input(\"enter the number to check wether it is prime or not:\"))\n",
    "if num==1:\n",
    "    print(\"not a prime no\")\n",
    "if(num>1):\n",
    "    for i in range(2,num):\n",
    "        if(num%i==0):\n",
    "            print(\"it not a prime no\")\n",
    "            break\n",
    "    else:\n",
    "        print(\"Prime no\")"
   ]
  },
  {
   "cell_type": "code",
   "execution_count": 27,
   "id": "4e017e34",
   "metadata": {},
   "outputs": [],
   "source": [
    "#fibonachi sequence"
   ]
  },
  {
   "cell_type": "code",
   "execution_count": 30,
   "id": "62334662",
   "metadata": {},
   "outputs": [
    {
     "name": "stdout",
     "output_type": "stream",
     "text": [
      "enter the number for fibo sequence12\n",
      "1 2 3 5 8 13 21 34 55 89 144 233 \n"
     ]
    }
   ],
   "source": [
    "num= int(input(\"enter the number for fibo sequence\"))\n",
    "num1=0\n",
    "num2=1\n",
    "next_number = num2  \n",
    "count = 1\n",
    " \n",
    "while count <= num:\n",
    "    print(next_number, end=\" \")\n",
    "    count += 1\n",
    "    num1, num2 = num2, next_number\n",
    "    next_number = num1 + num2\n",
    "print()\n",
    "    "
   ]
  },
  {
   "cell_type": "code",
   "execution_count": null,
   "id": "2959b179",
   "metadata": {},
   "outputs": [],
   "source": []
  }
 ],
 "metadata": {
  "kernelspec": {
   "display_name": "Python 3 (ipykernel)",
   "language": "python",
   "name": "python3"
  },
  "language_info": {
   "codemirror_mode": {
    "name": "ipython",
    "version": 3
   },
   "file_extension": ".py",
   "mimetype": "text/x-python",
   "name": "python",
   "nbconvert_exporter": "python",
   "pygments_lexer": "ipython3",
   "version": "3.9.13"
  }
 },
 "nbformat": 4,
 "nbformat_minor": 5
}
