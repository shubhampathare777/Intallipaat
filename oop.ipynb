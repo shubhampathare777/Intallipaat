{
 "cells": [
  {
   "cell_type": "code",
   "execution_count": null,
   "id": "39a87b90",
   "metadata": {},
   "outputs": [],
   "source": [
    "#oobect oriented programing"
   ]
  },
  {
   "cell_type": "code",
   "execution_count": 1,
   "id": "581dc376",
   "metadata": {},
   "outputs": [],
   "source": [
    "a=1\n",
    "b=2"
   ]
  },
  {
   "cell_type": "code",
   "execution_count": 3,
   "id": "e7abca46",
   "metadata": {},
   "outputs": [],
   "source": [
    "def add(a,b):# a and b are our argument and parameter\n",
    "    return a+b"
   ]
  },
  {
   "cell_type": "code",
   "execution_count": 4,
   "id": "9ae6927f",
   "metadata": {},
   "outputs": [
    {
     "data": {
      "text/plain": [
       "<function __main__.add(a, b)>"
      ]
     },
     "execution_count": 4,
     "metadata": {},
     "output_type": "execute_result"
    }
   ],
   "source": [
    "add\n"
   ]
  },
  {
   "cell_type": "code",
   "execution_count": 5,
   "id": "db155426",
   "metadata": {},
   "outputs": [
    {
     "data": {
      "text/plain": [
       "3"
      ]
     },
     "execution_count": 5,
     "metadata": {},
     "output_type": "execute_result"
    }
   ],
   "source": [
    "add(1,2)"
   ]
  },
  {
   "cell_type": "code",
   "execution_count": 1,
   "id": "02a96726",
   "metadata": {},
   "outputs": [],
   "source": [
    "class  sample:\n",
    "    def hi():\n",
    "        pass"
   ]
  },
  {
   "cell_type": "code",
   "execution_count": 2,
   "id": "fe7060b8",
   "metadata": {},
   "outputs": [],
   "source": [
    "class parent:\n",
    "    def _init__(self):\n",
    "        self.name='shubham'\n",
    "        self.age=30\n",
    "        self.prof=\"DS\""
   ]
  },
  {
   "cell_type": "code",
   "execution_count": 4,
   "id": "e794d151",
   "metadata": {},
   "outputs": [],
   "source": [
    "class sample:\n",
    "    def _init__(self,name,age):\n",
    "        self.name='shubham'\n",
    "        self.age=25\n",
    "    def display(self):\n",
    "        print(self.name,self.age)"
   ]
  },
  {
   "cell_type": "code",
   "execution_count": 5,
   "id": "59d57568",
   "metadata": {},
   "outputs": [
    {
     "data": {
      "text/plain": [
       "__main__.sample"
      ]
     },
     "execution_count": 5,
     "metadata": {},
     "output_type": "execute_result"
    }
   ],
   "source": [
    "sample"
   ]
  },
  {
   "cell_type": "code",
   "execution_count": 6,
   "id": "5a4700a9",
   "metadata": {},
   "outputs": [
    {
     "data": {
      "text/plain": [
       "<__main__.sample at 0x245ae887ca0>"
      ]
     },
     "execution_count": 6,
     "metadata": {},
     "output_type": "execute_result"
    }
   ],
   "source": [
    "sample()"
   ]
  },
  {
   "cell_type": "code",
   "execution_count": 7,
   "id": "9fff3f25",
   "metadata": {},
   "outputs": [
    {
     "name": "stdout",
     "output_type": "stream",
     "text": [
      "<__main__.sample object at 0x00000245AE4D7A00>\n"
     ]
    }
   ],
   "source": [
    "print(sample())"
   ]
  },
  {
   "cell_type": "code",
   "execution_count": 9,
   "id": "825868df",
   "metadata": {},
   "outputs": [
    {
     "data": {
      "text/plain": [
       "type"
      ]
     },
     "execution_count": 9,
     "metadata": {},
     "output_type": "execute_result"
    }
   ],
   "source": [
    "type(sample)"
   ]
  },
  {
   "cell_type": "code",
   "execution_count": 10,
   "id": "e53028ed",
   "metadata": {},
   "outputs": [
    {
     "data": {
      "text/plain": [
       "__main__.sample"
      ]
     },
     "execution_count": 10,
     "metadata": {},
     "output_type": "execute_result"
    }
   ],
   "source": [
    "type(sample())"
   ]
  },
  {
   "cell_type": "code",
   "execution_count": null,
   "id": "a2c31d7d",
   "metadata": {},
   "outputs": [],
   "source": [
    "#Inheritance single"
   ]
  },
  {
   "cell_type": "code",
   "execution_count": 13,
   "id": "a395baa1",
   "metadata": {},
   "outputs": [],
   "source": [
    "class parent:\n",
    "    def __init__(self):\n",
    "        self.name=\"shubham\"\n",
    "        \n",
    "class child(parent):\n",
    "    def display(self):\n",
    "        print(self.name)"
   ]
  },
  {
   "cell_type": "code",
   "execution_count": 14,
   "id": "f826da8c",
   "metadata": {},
   "outputs": [
    {
     "name": "stdout",
     "output_type": "stream",
     "text": [
      "shubham\n"
     ]
    }
   ],
   "source": [
    "ch=child()\n",
    "ch.display()"
   ]
  },
  {
   "cell_type": "code",
   "execution_count": 15,
   "id": "d99bb5d4",
   "metadata": {},
   "outputs": [],
   "source": [
    "#multilevel"
   ]
  },
  {
   "cell_type": "code",
   "execution_count": 25,
   "id": "71a6d341",
   "metadata": {},
   "outputs": [],
   "source": [
    "class parent:\n",
    "    def __init__(self):\n",
    "        self.name=\"shubham\"\n",
    "        \n",
    "class child1(parent):\n",
    "    def __init__(self):\n",
    "        parent.__init__(self)\n",
    "        self.age=25\n",
    "        \n",
    "class child2(child1):\n",
    "    def __init__(self):\n",
    "        child1.__init__(self)\n",
    "        self.prof=\"data analyst\"\n",
    "        \n",
    "        \n",
    "    def display(self):\n",
    "        print(self.name,self.age,self.prof)"
   ]
  },
  {
   "cell_type": "code",
   "execution_count": 26,
   "id": "d6f84ee8",
   "metadata": {},
   "outputs": [
    {
     "name": "stdout",
     "output_type": "stream",
     "text": [
      "shubham 25 data analyst\n"
     ]
    }
   ],
   "source": [
    "obj = child2()\n",
    "obj.display()"
   ]
  },
  {
   "cell_type": "code",
   "execution_count": 39,
   "id": "2515eb28",
   "metadata": {},
   "outputs": [],
   "source": [
    "#Harchical\n",
    "class parent:\n",
    "    def __init__(self):\n",
    "        self.name=\"shubham\"\n",
    "        self.age=25\n",
    "        self.prof=\"data analyst\"\n",
    "class child1(parent):\n",
    "    def __init__(self):\n",
    "        self.city=\"pune\"\n",
    "        parent.__init__(self)\n",
    "        \n",
    "    def display(self):\n",
    "        print(self.name,self.age,self.prof,self.city)\n",
    "        \n",
    "class child2(parent):\n",
    "    def __init__(self):\n",
    "        self.country=\"India\"\n",
    "        parent.__init__(self)\n",
    "        \n",
    "    def display(self):\n",
    "        print(self.name,self.age,self.prof,self.country)\n",
    "        "
   ]
  },
  {
   "cell_type": "code",
   "execution_count": 40,
   "id": "5829ce8e",
   "metadata": {},
   "outputs": [],
   "source": [
    "obj1=child1()\n",
    "obj2=child2()\n"
   ]
  },
  {
   "cell_type": "code",
   "execution_count": 41,
   "id": "ba9afe24",
   "metadata": {},
   "outputs": [
    {
     "name": "stdout",
     "output_type": "stream",
     "text": [
      "shubham 25 data analyst pune\n"
     ]
    }
   ],
   "source": [
    "obj1.display()"
   ]
  },
  {
   "cell_type": "code",
   "execution_count": 42,
   "id": "3e9eac95",
   "metadata": {},
   "outputs": [
    {
     "name": "stdout",
     "output_type": "stream",
     "text": [
      "shubham 25 data analyst India\n"
     ]
    }
   ],
   "source": [
    "obj2.display()"
   ]
  },
  {
   "cell_type": "code",
   "execution_count": null,
   "id": "92299ea7",
   "metadata": {},
   "outputs": [],
   "source": []
  }
 ],
 "metadata": {
  "kernelspec": {
   "display_name": "Python 3 (ipykernel)",
   "language": "python",
   "name": "python3"
  },
  "language_info": {
   "codemirror_mode": {
    "name": "ipython",
    "version": 3
   },
   "file_extension": ".py",
   "mimetype": "text/x-python",
   "name": "python",
   "nbconvert_exporter": "python",
   "pygments_lexer": "ipython3",
   "version": "3.9.13"
  }
 },
 "nbformat": 4,
 "nbformat_minor": 5
}
